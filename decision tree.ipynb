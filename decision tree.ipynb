{
 "cells": [
  {
   "cell_type": "code",
   "execution_count": 1,
   "metadata": {},
   "outputs": [],
   "source": [
    "import pandas as pd\n",
    "import numpy as np\n",
    "from sklearn.model_selection import train_test_split\n",
    "from sklearn.tree import DecisionTreeClassifier\n",
    "from sklearn.metrics import accuracy_score\n",
    "from sklearn.model_selection import GridSearchCV\n",
    "from sklearn.model_selection import KFold\n",
    "from sklearn.model_selection import cross_val_score\n",
    "from sklearn import tree\n",
    "\n",
    "\n",
    "df = pd.read_csv(\"heart.csv\")"
   ]
  },
  {
   "cell_type": "code",
   "execution_count": 2,
   "metadata": {},
   "outputs": [],
   "source": [
    "x = df.iloc[:,:-1].values\n",
    "y = df.iloc[:,-1].values\n",
    "x_train, x_test, y_train, y_test = train_test_split(x, y, test_size=0.3, random_state=42)"
   ]
  },
  {
   "cell_type": "code",
   "execution_count": 3,
   "metadata": {},
   "outputs": [
    {
     "data": {
      "text/plain": [
       "0.7472527472527473"
      ]
     },
     "execution_count": 3,
     "metadata": {},
     "output_type": "execute_result"
    }
   ],
   "source": [
    "classifier = DecisionTreeClassifier()\n",
    "baseline = classifier.fit(x_train, y_train)\n",
    "\n",
    "prediction = baseline.predict(x_test)\n",
    "prediction\n",
    "\n",
    "accuracy_score(y_test, prediction)"
   ]
  },
  {
   "cell_type": "code",
   "execution_count": 4,
   "metadata": {},
   "outputs": [],
   "source": [
    "def evaluate(clr):\n",
    "    model = clr.fit(x_train, y_train)\n",
    "    prediction = model.predict(x_test)\n",
    "    return accuracy_score(y_test, prediction)"
   ]
  },
  {
   "cell_type": "code",
   "execution_count": 5,
   "metadata": {},
   "outputs": [
    {
     "data": {
      "text/plain": [
       "0.6813186813186813"
      ]
     },
     "execution_count": 5,
     "metadata": {},
     "output_type": "execute_result"
    }
   ],
   "source": [
    "clr1 = DecisionTreeClassifier(criterion=\"entropy\", splitter=\"random\", max_depth=3)\n",
    "evaluate(clr1)\n"
   ]
  },
  {
   "cell_type": "code",
   "execution_count": 6,
   "metadata": {},
   "outputs": [
    {
     "data": {
      "text/plain": [
       "0.7142857142857143"
      ]
     },
     "execution_count": 6,
     "metadata": {},
     "output_type": "execute_result"
    }
   ],
   "source": [
    "clr2 = DecisionTreeClassifier(min_samples_split= 3, max_features= 5)\n",
    "evaluate(clr2)"
   ]
  },
  {
   "cell_type": "code",
   "execution_count": 7,
   "metadata": {},
   "outputs": [
    {
     "data": {
      "text/plain": [
       "0.7692307692307693"
      ]
     },
     "execution_count": 7,
     "metadata": {},
     "output_type": "execute_result"
    }
   ],
   "source": [
    "parameters = {'criterion':[\"gini\", \"entropy\"], 'max_depth': [2,3,4,8], 'min_samples_split':[3,4,10,20]}\n",
    "grid_search = GridSearchCV(estimator = classifier, param_grid = parameters,scoring='accuracy')\n",
    "grid_search.fit(x_train, y_train)\n",
    "score = pd.DataFrame(grid_search.cv_results_)\n",
    "\n",
    "\n",
    "best_clr = grid_search.best_estimator_\n",
    "evaluate(best_clr)"
   ]
  },
  {
   "cell_type": "code",
   "execution_count": 8,
   "metadata": {},
   "outputs": [],
   "source": [
    "k = 5\n",
    "def cvs(cls_1):\n",
    "    kf = KFold(n_splits = k, random_state = None)\n",
    "    cross_val_scores = cross_val_score(cls_1,x, y, scoring = 'accuracy', cv=kf)\n",
    "    print(cross_val_scores)\n",
    "    print(\"avg_acc: {}\".format(cross_val_scores.mean()))"
   ]
  },
  {
   "cell_type": "code",
   "execution_count": 9,
   "metadata": {},
   "outputs": [
    {
     "name": "stdout",
     "output_type": "stream",
     "text": [
      "[0.83606557 0.70491803 0.75409836 0.71666667 0.66666667]\n",
      "avg_acc: 0.7356830601092896\n"
     ]
    }
   ],
   "source": [
    "cvs(best_clr)\n"
   ]
  },
  {
   "cell_type": "code",
   "execution_count": 10,
   "metadata": {},
   "outputs": [
    {
     "name": "stdout",
     "output_type": "stream",
     "text": [
      "accuracy of each fold - [0.819672131147541, 0.8032786885245902, 0.7540983606557377, 0.7833333333333333, 0.8333333333333334]\n",
      "Avg accuracy : 0.7987431693989071\n"
     ]
    }
   ],
   "source": [
    "k1 = 5\n",
    "kff = KFold(n_splits=k1, shuffle=True, random_state=42)\n",
    "acc_score = []\n",
    "models = []\n",
    "for train_index, test_index in kff.split(x):\n",
    "   X_train, X_test = x[train_index,: ], x[test_index,: ]\n",
    "   Y_train, Y_test = y[train_index], y[test_index]\n",
    "   model = best_clr.fit(X_train, Y_train)\n",
    "   pred_values = model.predict(X_test)\n",
    "   models.append(model)\n",
    "   acc = accuracy_score(pred_values, Y_test)\n",
    "   acc_score.append(acc)\n",
    "\n",
    "avg_acc_score = sum(acc_score) / k1\n",
    "\n",
    "print('accuracy of each fold - {}'.format(acc_score))\n",
    "print('Avg accuracy : {}'.format(avg_acc_score))\n"
   ]
  },
  {
   "cell_type": "code",
   "execution_count": 11,
   "metadata": {},
   "outputs": [
    {
     "data": {
      "image/png": "[encoded data removed]",
      "text/plain": [
       "<Figure size 432x288 with 1 Axes>"
      ]
     },
     "metadata": {
      "needs_background": "light"
     },
     "output_type": "display_data"
    }
   ],
   "source": [
    "target = \"disease\"\n",
    "features = df.drop(columns=target).columns\n",
    "\n",
    "_ = tree.plot_tree(models[0], feature_names=features, class_names=target, filled=True, proportion= True)"
   ]
  }
 ],
 "metadata": {
  "interpreter": {
   "hash": "4ea6174109c7db0d0f23544782bd685f867a961ccec7b1d0b1aca314793d1f6d"
  },
  "kernelspec": {
   "display_name": "Python 3.8.8 64-bit ('base': conda)",
   "language": "python",
   "name": "python3"
  },
  "language_info": {
   "codemirror_mode": {
    "name": "ipython",
    "version": 3
   },
   "file_extension": ".py",
   "mimetype": "text/x-python",
   "name": "python",
   "nbconvert_exporter": "python",
   "pygments_lexer": "ipython3",
   "version": "3.8.8"
  },
  "orig_nbformat": 4
 },
 "nbformat": 4,
 "nbformat_minor": 2
}
